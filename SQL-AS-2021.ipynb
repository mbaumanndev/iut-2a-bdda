{
    "metadata": {
        "kernelspec": {
            "name": "SQL",
            "display_name": "SQL",
            "language": "sql"
        },
        "language_info": {
            "name": "sql",
            "version": ""
        }
    },
    "nbformat_minor": 2,
    "nbformat": 4,
    "cells": [
        {
            "cell_type": "markdown",
            "source": [
                "# SQL Avancé\n",
                "\n",
                "## Révisions\n",
                "\n",
                "\\- Schémas\n",
                "\n",
                "\\- Création de table\n",
                "\n",
                "## Schémas\n",
                "\n",
                "Un schéma permet de grouper des tables de même nature pour gérer les permissions plus efficacement.\n",
                "\n",
                "  \n",
                "\n",
                "Traditionnellement on va avoir deux schémas différents :\n",
                "\n",
                "\\- data --\\> Lecture écriture\n",
                "\n",
                "\\- ref --\\> Lecture seule"
            ],
            "metadata": {
                "azdata_cell_guid": "a8f7a58f-a328-4a3f-9001-4e309f587f1e"
            },
            "attachments": {}
        },
        {
            "cell_type": "code",
            "source": [
                "IF (EXISTS (\r\n",
                "        SELECT [name]\r\n",
                "        FROM [master].[sys].[databases]\r\n",
                "        WHERE [name] = 'Forum'))\r\n",
                "            DROP DATABASE [Forum]\r\n",
                "\r\n",
                "CREATE DATABASE [Forum]\r\n",
                "\r\n",
                "GO\r\n",
                "\r\n",
                "USE [Forum]"
            ],
            "metadata": {
                "azdata_cell_guid": "1b5c08b7-0444-4d3c-8109-8d2995272080"
            },
            "outputs": [],
            "execution_count": null
        },
        {
            "cell_type": "code",
            "source": [
                "CREATE SCHEMA [data]\r\n",
                "GO\r\n",
                "CREATE SCHEMA [ref]\r\n",
                "GO"
            ],
            "metadata": {
                "azdata_cell_guid": "8a46b975-6b7b-4680-8a8d-f6f665a82337"
            },
            "outputs": [],
            "execution_count": null
        },
        {
            "cell_type": "markdown",
            "source": [
                "# Création de tables"
            ],
            "metadata": {
                "azdata_cell_guid": "43937dc5-6c16-40be-a26d-176bf35a6c37"
            },
            "attachments": {}
        },
        {
            "cell_type": "code",
            "source": [
                "CREATE TABLE [data].[Utilisateur_UTL] (\r\n",
                "    [Id] BIGINT NOT NULL PRIMARY KEY IDENTITY(1, 1), -- Auto incrément\r\n",
                "    [Login] NVARCHAR(50) NOT NULL UNIQUE,\r\n",
                "    [Password] NVARCHAR(MAX) NOT NULL,\r\n",
                "    [CreatedAt] DATETIME NOT NULL DEFAULT GETDATE(),\r\n",
                "    [UpdatedAt] DATETIME NOT NULL DEFAULT GETDATE()\r\n",
                ")"
            ],
            "metadata": {
                "azdata_cell_guid": "ae0b0d1e-dc08-4ad1-b071-26e78b56da25"
            },
            "outputs": [],
            "execution_count": null
        },
        {
            "cell_type": "code",
            "source": [
                "CREATE TABLE [ref].[Role_ROL] (\r\n",
                "    [Id] SMALLINT NOT NULL PRIMARY KEY IDENTITY(1, 1), -- Id technique pour SGBD\r\n",
                "    [Key] VARCHAR(20) NOT NULL UNIQUE, -- Id fonctionnel, \"pour l'humain\"\r\n",
                "    [Description] NVARCHAR(255)\r\n",
                ")\r\n",
                "CREATE TABLE [ref].[Permission_PER] (\r\n",
                "    [Id] SMALLINT NOT NULL PRIMARY KEY IDENTITY(1, 1), -- Id Tech\r\n",
                "    [Key] VARCHAR(20) NOT NULL UNIQUE, -- Id fonc\r\n",
                "    [Description] NVARCHAR(255)\r\n",
                ")"
            ],
            "metadata": {
                "azdata_cell_guid": "7e59f660-8e5b-4839-98c5-55ba0702ae71"
            },
            "outputs": [],
            "execution_count": null
        },
        {
            "cell_type": "code",
            "source": [
                "CREATE TABLE [data].[RoleUtilisateur_RUL] (\r\n",
                "    [RolId] SMALLINT NOT NULL,\r\n",
                "    [UtlId] BIGINT NOT NULL,\r\n",
                "    CONSTRAINT [pk_RUL] PRIMARY KEY ([RolId], [UtlId]),\r\n",
                "    CONSTRAINT [fk_RUL_ROL] FOREIGN KEY ([RolId])\r\n",
                "        REFERENCES [ref].[Role_ROL]([Id]),\r\n",
                "    CONSTRAINT [fk_RUL_UTL] FOREIGN KEY ([UtlId])\r\n",
                "        REFERENCES [data].[Utilisateur_UTL]([Id])\r\n",
                ")\r\n",
                "CREATE TABLE [data].[PermissionRole_PRO] (\r\n",
                "    [PerId] SMALLINT NOT NULL,\r\n",
                "    [RolId] SMALLINT NOT NULL,\r\n",
                "    CONSTRAINT [pk_PRO] PRIMARY KEY ([PerId], [RolId]),\r\n",
                "    CONSTRAINT [fk_PRO_PER] FOREIGN KEY ([PerId])\r\n",
                "        REFERENCES [ref].[Permission_PER]([Id]),\r\n",
                "    CONSTRAINT [fk_PRO_ROL] FOREIGN KEY ([RolId])\r\n",
                "        REFERENCES [ref].[Role_ROL]([Id])\r\n",
                ")"
            ],
            "metadata": {
                "azdata_cell_guid": "6adff672-e1d0-4d4f-beeb-e45de3cd0b14"
            },
            "outputs": [],
            "execution_count": null
        }
    ]
}